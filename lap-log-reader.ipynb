{
 "cells": [
  {
   "cell_type": "code",
   "execution_count": 1,
   "id": "577fac9d",
   "metadata": {},
   "outputs": [],
   "source": [
    "import pandas as pd\n",
    "from matplotlib import pyplot as plt"
   ]
  },
  {
   "cell_type": "code",
   "execution_count": 6,
   "id": "bef7ec80",
   "metadata": {},
   "outputs": [],
   "source": [
    "# TODO: Expedite reading/joining of several csv files\n",
    "df = pd.read_csv(\"interlagos2.csv\", header = 0)"
   ]
  },
  {
   "cell_type": "code",
   "execution_count": 7,
   "id": "a1ad7e5e",
   "metadata": {},
   "outputs": [],
   "source": [
    "df[\"worst_tire_wear\"] = df[[f\"tire_wear{i}\" for i in range(1, 5)]].min(axis = 1, )\n",
    "df[\"delta_tire_wear\"] = df[\"worst_tire_wear\"].diff()\n",
    "df[\"fuel_consumption\"] = df[\"fuel\"].diff()"
   ]
  },
  {
   "cell_type": "code",
   "execution_count": 8,
   "id": "d15cacb1",
   "metadata": {},
   "outputs": [
    {
     "data": {
      "text/html": [
       "<div>\n",
       "<style scoped>\n",
       "    .dataframe tbody tr th:only-of-type {\n",
       "        vertical-align: middle;\n",
       "    }\n",
       "\n",
       "    .dataframe tbody tr th {\n",
       "        vertical-align: top;\n",
       "    }\n",
       "\n",
       "    .dataframe thead th {\n",
       "        text-align: right;\n",
       "    }\n",
       "</style>\n",
       "<table border=\"1\" class=\"dataframe\">\n",
       "  <thead>\n",
       "    <tr style=\"text-align: right;\">\n",
       "      <th></th>\n",
       "      <th>time</th>\n",
       "      <th>fuel</th>\n",
       "      <th>tire_wear1</th>\n",
       "      <th>tire_wear2</th>\n",
       "      <th>tire_wear3</th>\n",
       "      <th>tire_wear4</th>\n",
       "      <th>worst_tire_wear</th>\n",
       "      <th>delta_tire_wear</th>\n",
       "      <th>fuel_consumption</th>\n",
       "    </tr>\n",
       "  </thead>\n",
       "  <tbody>\n",
       "    <tr>\n",
       "      <th>1</th>\n",
       "      <td>0</td>\n",
       "      <td>97.71</td>\n",
       "      <td>99.96</td>\n",
       "      <td>99.96</td>\n",
       "      <td>99.98</td>\n",
       "      <td>99.98</td>\n",
       "      <td>99.96</td>\n",
       "      <td>NaN</td>\n",
       "      <td>NaN</td>\n",
       "    </tr>\n",
       "    <tr>\n",
       "      <th>2</th>\n",
       "      <td>115512</td>\n",
       "      <td>95.15</td>\n",
       "      <td>99.91</td>\n",
       "      <td>99.89</td>\n",
       "      <td>99.96</td>\n",
       "      <td>99.95</td>\n",
       "      <td>99.89</td>\n",
       "      <td>-0.07</td>\n",
       "      <td>-2.56</td>\n",
       "    </tr>\n",
       "    <tr>\n",
       "      <th>3</th>\n",
       "      <td>95787</td>\n",
       "      <td>92.63</td>\n",
       "      <td>99.86</td>\n",
       "      <td>99.83</td>\n",
       "      <td>99.93</td>\n",
       "      <td>99.93</td>\n",
       "      <td>99.83</td>\n",
       "      <td>-0.06</td>\n",
       "      <td>-2.52</td>\n",
       "    </tr>\n",
       "    <tr>\n",
       "      <th>4</th>\n",
       "      <td>93698</td>\n",
       "      <td>90.10</td>\n",
       "      <td>99.79</td>\n",
       "      <td>99.73</td>\n",
       "      <td>99.90</td>\n",
       "      <td>99.88</td>\n",
       "      <td>99.73</td>\n",
       "      <td>-0.10</td>\n",
       "      <td>-2.53</td>\n",
       "    </tr>\n",
       "    <tr>\n",
       "      <th>5</th>\n",
       "      <td>101180</td>\n",
       "      <td>87.53</td>\n",
       "      <td>99.74</td>\n",
       "      <td>99.67</td>\n",
       "      <td>99.87</td>\n",
       "      <td>99.85</td>\n",
       "      <td>99.67</td>\n",
       "      <td>-0.06</td>\n",
       "      <td>-2.57</td>\n",
       "    </tr>\n",
       "  </tbody>\n",
       "</table>\n",
       "</div>"
      ],
      "text/plain": [
       "     time   fuel  tire_wear1  tire_wear2  tire_wear3  tire_wear4  \\\n",
       "1       0  97.71       99.96       99.96       99.98       99.98   \n",
       "2  115512  95.15       99.91       99.89       99.96       99.95   \n",
       "3   95787  92.63       99.86       99.83       99.93       99.93   \n",
       "4   93698  90.10       99.79       99.73       99.90       99.88   \n",
       "5  101180  87.53       99.74       99.67       99.87       99.85   \n",
       "\n",
       "   worst_tire_wear  delta_tire_wear  fuel_consumption  \n",
       "1            99.96              NaN               NaN  \n",
       "2            99.89            -0.07             -2.56  \n",
       "3            99.83            -0.06             -2.52  \n",
       "4            99.73            -0.10             -2.53  \n",
       "5            99.67            -0.06             -2.57  "
      ]
     },
     "execution_count": 8,
     "metadata": {},
     "output_type": "execute_result"
    }
   ],
   "source": [
    "df.head()"
   ]
  },
  {
   "cell_type": "code",
   "execution_count": 10,
   "id": "661142c4",
   "metadata": {},
   "outputs": [],
   "source": [
    "def distplots(df):\n",
    "    fig, axes = plt.subplots(nrows = 1, ncols = 3, figsize = (15, 5))\n",
    "\n",
    "    axes[0].plot(df[\"time\"])\n",
    "    axes[0].set_title(\"Distribution of lap times\")\n",
    "    #axes[0].set_xticks(rotation = 45)  # Need to generate new ticks to use\n",
    "\n",
    "    axes[1].hist(df[\"delta_tire_wear\"])\n",
    "    axes[1].set_title(\"Distribution of tire wear\")\n",
    "\n",
    "    axes[2].hist(df[\"fuel_consumption\"])\n",
    "    axes[2].set_title(\"Distribution of fuel consumption\")\n",
    "\n",
    "plt.show()"
   ]
  },
  {
   "cell_type": "code",
   "execution_count": 27,
   "id": "30bd8fc1",
   "metadata": {},
   "outputs": [
    {
     "data": {
      "image/png": "[encoded data removed]",
      "text/plain": [
       "<Figure size 1500x500 with 3 Axes>"
      ]
     },
     "metadata": {},
     "output_type": "display_data"
    }
   ],
   "source": [
    "distplots(df[(df[\"time\"] > 75000) & (df[\"time\"] < 100000)])"
   ]
  },
  {
   "cell_type": "code",
   "execution_count": 25,
   "id": "e0dc8a6b",
   "metadata": {},
   "outputs": [
    {
     "data": {
      "text/html": [
       "<div>\n",
       "<style scoped>\n",
       "    .dataframe tbody tr th:only-of-type {\n",
       "        vertical-align: middle;\n",
       "    }\n",
       "\n",
       "    .dataframe tbody tr th {\n",
       "        vertical-align: top;\n",
       "    }\n",
       "\n",
       "    .dataframe thead th {\n",
       "        text-align: right;\n",
       "    }\n",
       "</style>\n",
       "<table border=\"1\" class=\"dataframe\">\n",
       "  <thead>\n",
       "    <tr style=\"text-align: right;\">\n",
       "      <th></th>\n",
       "      <th>time</th>\n",
       "      <th>fuel</th>\n",
       "      <th>tire_wear1</th>\n",
       "      <th>tire_wear2</th>\n",
       "      <th>tire_wear3</th>\n",
       "      <th>tire_wear4</th>\n",
       "      <th>worst_tire_wear</th>\n",
       "      <th>delta_tire_wear</th>\n",
       "      <th>fuel_consumption</th>\n",
       "    </tr>\n",
       "  </thead>\n",
       "  <tbody>\n",
       "    <tr>\n",
       "      <th>27</th>\n",
       "      <td>191501</td>\n",
       "      <td>34.28</td>\n",
       "      <td>98.76</td>\n",
       "      <td>98.09</td>\n",
       "      <td>98.94</td>\n",
       "      <td>98.75</td>\n",
       "      <td>98.09</td>\n",
       "      <td>-0.25</td>\n",
       "      <td>-2.58</td>\n",
       "    </tr>\n",
       "    <tr>\n",
       "      <th>28</th>\n",
       "      <td>95294</td>\n",
       "      <td>31.78</td>\n",
       "      <td>98.72</td>\n",
       "      <td>97.86</td>\n",
       "      <td>98.88</td>\n",
       "      <td>98.68</td>\n",
       "      <td>97.86</td>\n",
       "      <td>-0.23</td>\n",
       "      <td>-2.50</td>\n",
       "    </tr>\n",
       "    <tr>\n",
       "      <th>29</th>\n",
       "      <td>95070</td>\n",
       "      <td>29.26</td>\n",
       "      <td>98.68</td>\n",
       "      <td>97.61</td>\n",
       "      <td>98.81</td>\n",
       "      <td>98.61</td>\n",
       "      <td>97.61</td>\n",
       "      <td>-0.25</td>\n",
       "      <td>-2.52</td>\n",
       "    </tr>\n",
       "    <tr>\n",
       "      <th>30</th>\n",
       "      <td>93451</td>\n",
       "      <td>26.83</td>\n",
       "      <td>98.65</td>\n",
       "      <td>97.36</td>\n",
       "      <td>98.75</td>\n",
       "      <td>98.55</td>\n",
       "      <td>97.36</td>\n",
       "      <td>-0.25</td>\n",
       "      <td>-2.43</td>\n",
       "    </tr>\n",
       "  </tbody>\n",
       "</table>\n",
       "</div>"
      ],
      "text/plain": [
       "      time   fuel  tire_wear1  tire_wear2  tire_wear3  tire_wear4  \\\n",
       "27  191501  34.28       98.76       98.09       98.94       98.75   \n",
       "28   95294  31.78       98.72       97.86       98.88       98.68   \n",
       "29   95070  29.26       98.68       97.61       98.81       98.61   \n",
       "30   93451  26.83       98.65       97.36       98.75       98.55   \n",
       "\n",
       "    worst_tire_wear  delta_tire_wear  fuel_consumption  \n",
       "27            98.09            -0.25             -2.58  \n",
       "28            97.86            -0.23             -2.50  \n",
       "29            97.61            -0.25             -2.52  \n",
       "30            97.36            -0.25             -2.43  "
      ]
     },
     "execution_count": 25,
     "metadata": {},
     "output_type": "execute_result"
    }
   ],
   "source": [
    "df[df.delta_tire_wear < -0.2]"
   ]
  },
  {
   "cell_type": "code",
   "execution_count": 28,
   "id": "3a368d26",
   "metadata": {},
   "outputs": [
    {
     "data": {
      "text/plain": [
       "np.float64(93429.86956521739)"
      ]
     },
     "execution_count": 28,
     "metadata": {},
     "output_type": "execute_result"
    }
   ],
   "source": [
    "df[(df[\"time\"] > 75000) & (df[\"time\"] < 100000)].time.mean()"
   ]
  }
 ],
 "metadata": {
  "kernelspec": {
   "display_name": "Python 3",
   "language": "python",
   "name": "python3"
  },
  "language_info": {
   "codemirror_mode": {
    "name": "ipython",
    "version": 3
   },
   "file_extension": ".py",
   "mimetype": "text/x-python",
   "name": "python",
   "nbconvert_exporter": "python",
   "pygments_lexer": "ipython3",
   "version": "3.13.7"
  }
 },
 "nbformat": 4,
 "nbformat_minor": 5
}
