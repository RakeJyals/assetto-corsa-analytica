{
 "cells": [
  {
   "cell_type": "code",
   "execution_count": 2,
   "id": "4e90f5ae",
   "metadata": {},
   "outputs": [],
   "source": [
    "from math import floor, ceil\n",
    "from statistics import mean\n",
    "from scipy.optimize import brentq\n",
    "import numpy as np"
   ]
  },
  {
   "cell_type": "code",
   "execution_count": 3,
   "id": "3d4ef7d7",
   "metadata": {},
   "outputs": [],
   "source": [
    "race_length = 14400  # s\n",
    "long_stop_time = 180  # s\n",
    "long_stops = 2"
   ]
  },
  {
   "cell_type": "code",
   "execution_count": 1,
   "id": "750365c4",
   "metadata": {},
   "outputs": [],
   "source": [
    "# GT3\n",
    "base_pitstop_loss = 25\n",
    "# TODO: Separate losses for in, outlap? Would be messy because of finish line location varying between tracks, along with fact that some pit boxes are before finish line, some after\n",
    "fuel_tank_size = 100\n",
    "refuel_rate = 0.353  # sec / L\n",
    "tire_swap_time = 30"
   ]
  },
  {
   "cell_type": "code",
   "execution_count": 9,
   "id": "8b9e298b",
   "metadata": {},
   "outputs": [],
   "source": [
    "# LMP2\n",
    "base_pitstop_loss = 28  # Temp value from gt3!\n",
    "fuel_tank_size = 75\n",
    "refuel_rate = 0.6\n",
    "tire_swap_time = 10"
   ]
  },
  {
   "cell_type": "code",
   "execution_count": 4,
   "id": "08661bad",
   "metadata": {},
   "outputs": [],
   "source": [
    "def estimate_stint_length(average_lap_time, average_fuel_consumption, laps_per_stint = None):  # TODO multi-driver support\n",
    "    global race_length\n",
    "    global long_stops\n",
    "    global long_stop_time\n",
    "    global base_pitstop_loss\n",
    "\n",
    "    global fuel_tank_size\n",
    "    global refuel_rate\n",
    "    global tire_swap_time\n",
    "\n",
    "    total_long_stop_time = long_stops * long_stop_time\n",
    "    effective_race_length = race_length - total_long_stop_time\n",
    "\n",
    "    if laps_per_stint:\n",
    "        liters_to_refuel = laps_per_stint * average_fuel_consumption\n",
    "    else:\n",
    "        liters_to_refuel = fuel_tank_size - average_fuel_consumption  # To get a lower bound on max_stint_length, we lower bound pitstop length by\n",
    "        # assuming there is at least one lap of fuel left in the tank when coming in\n",
    "\n",
    "    pitstop_length = base_pitstop_loss + max(tire_swap_time, refuel_rate * liters_to_refuel)\n",
    "\n",
    "    if not laps_per_stint:\n",
    "        laps_per_stint = floor(fuel_tank_size / average_fuel_consumption)  # TODO Can this be moved up to avoid having the previous if laps_per_stint block?\n",
    "    \n",
    "    max_stint_length = average_lap_time * laps_per_stint + pitstop_length\n",
    "    # TODO: Parameter for max laps out? (tire strategy, may be better to save for new strat calculator)\n",
    "\n",
    "    stint_total = (effective_race_length + average_lap_time) / max_stint_length  # Adding average_lap_time to numerator accounts for 6 hours + 1 lap\n",
    "    # We want an upper bound of this\n",
    "    # pitstop_length is the sum of the time lost between the inlap and outlap. The first stint does not have an outlap but rather a formation lap (which is longer than an outlap),\n",
    "    # the final stint has an outlap but not an inlap. Therefore right now stint_total is overestimated by outlap_differential / max_stint_length\n",
    "\n",
    "    seconds_margin = (round(stint_total) - stint_total) * max_stint_length\n",
    "    \n",
    "    return stint_total, max_stint_length, seconds_margin  # Separate function for max_stint_length?\n",
    "\n"
   ]
  },
  {
   "cell_type": "code",
   "execution_count": 5,
   "id": "9d975343",
   "metadata": {},
   "outputs": [],
   "source": [
    "def laps_and_fuel_per_stint(average_lap_time, average_fuel_consumption, num_pitstops):  # TODO: Consider the fact that long stops should refuel more than short stops\n",
    "    global fuel_tank_size\n",
    "    stint_total = num_pitstops + 1\n",
    "    obj = lambda laps_per_stint: estimate_stint_length(average_lap_time, average_fuel_consumption, laps_per_stint)[0] - stint_total\n",
    "\n",
    "    # Calculate optimal laps per stint\n",
    "    optimal_laps_per_stint = brentq(obj, 1, floor(fuel_tank_size / average_fuel_consumption))\n",
    "\n",
    "    # Return liters required to do optimal laps\n",
    "    return optimal_laps_per_stint, ceil(average_fuel_consumption * optimal_laps_per_stint)"
   ]
  },
  {
   "cell_type": "code",
   "execution_count": 6,
   "id": "9d26e8bc",
   "metadata": {},
   "outputs": [],
   "source": [
    "def pit_time_matrix(average_lap_time, average_fuel_consumption, num_pitstops):  # Number of completed stints on axis 0, number of completed long stops on axis 1\n",
    "    # TODO: optional argument for start time\n",
    "    global long_stops\n",
    "    global long_stop_time\n",
    "    global race_length\n",
    "    global base_pitstop_loss\n",
    "    global tire_swap_time\n",
    "    global refuel_rate\n",
    "\n",
    "    laps_per_stint, liters_to_refuel = laps_and_fuel_per_stint(average_lap_time, average_fuel_consumption, num_pitstops)\n",
    "    _, stint_length, _ = estimate_stint_length(average_lap_time, average_fuel_consumption, laps_per_stint)\n",
    "    pitstop_length = base_pitstop_loss + max(tire_swap_time, refuel_rate * liters_to_refuel)\n",
    "\n",
    "    # Create 1D arrays\n",
    "    long_stop_array = np.arange(long_stops + 1).reshape((1, -1))\n",
    "    pit_stops_array_base = np.arange(1, num_pitstops + 1).reshape((-1, 1))  # First element is before first pitstop (after first stint), last element is final pitstop\n",
    "\n",
    "    # Convert pit_stops_array to times that car should enter pits if there are no long stops\n",
    "    pit_stops_array = race_length - (pit_stops_array_base * stint_length) + pitstop_length  # Adding back pitstop_length is necessary since the pitstop hasn't been done on entry\n",
    "    pit_stops_array = pit_stops_array.astype(np.int32)\n",
    "\n",
    "    # Factor in long stops\n",
    "    pit_stops_matrix = (pit_stops_array - long_stop_time * long_stop_array)\n",
    "\n",
    "    # Convert array to timedelta\n",
    "    pit_stops_matrix_seconds = (pit_stops_matrix % 60).astype(np.str_)\n",
    "    pit_stops_matrix_minutes = ((pit_stops_matrix // 60) % 60).astype(np.str_)\n",
    "    pit_stops_matrix_hours = (pit_stops_matrix // 3600).astype(np.str_)\n",
    "    pit_stops_matrix_string = pit_stops_matrix_hours + \":\" + pit_stops_matrix_minutes + \":\" + pit_stops_matrix_seconds\n",
    "\n",
    "    # Replace invalid elements of array with NaN (fewer long stops than stops completed and more long stops than pit stops remaining)\n",
    "    pit_stops_matrix_string[(pit_stops_array_base <= long_stop_array) | (pit_stops_array_base - 1 > (len(long_stop_array) + long_stop_array))] = \"NaN\"\n",
    "\n",
    "    return pit_stops_matrix_string"
   ]
  },
  {
   "cell_type": "code",
   "execution_count": 137,
   "id": "feabf08b",
   "metadata": {},
   "outputs": [
    {
     "data": {
      "text/plain": [
       "array([['3:2:4', 'NaN', 'NaN'],\n",
       "       ['2:3:11', '2:0:11', 'NaN'],\n",
       "       ['NaN', '1:1:18', '0:58:18']], dtype='<U65')"
      ]
     },
     "execution_count": 137,
     "metadata": {},
     "output_type": "execute_result"
    }
   ],
   "source": [
    "pit_time_matrix(92.6, 1.71, 3)"
   ]
  },
  {
   "cell_type": "code",
   "execution_count": 131,
   "id": "cd90e8bf",
   "metadata": {},
   "outputs": [
    {
     "data": {
      "text/plain": [
       "(2.601013976567726, 5433.496369999999, 2167.8891099999964)"
      ]
     },
     "execution_count": 131,
     "metadata": {},
     "output_type": "execute_result"
    }
   ],
   "source": [
    "estimate_stint_length(92.6, 1.71)  # lmp2"
   ]
  },
  {
   "cell_type": "code",
   "execution_count": null,
   "id": "facc33de",
   "metadata": {},
   "outputs": [
    {
     "data": {
      "text/plain": [
       "65"
      ]
     },
     "execution_count": 16,
     "metadata": {},
     "output_type": "execute_result"
    }
   ],
   "source": [
    "laps_and_fuel_per_stint(92.6, 1.71, 3)  # lmp2"
   ]
  },
  {
   "cell_type": "code",
   "execution_count": 136,
   "id": "5c884f66",
   "metadata": {},
   "outputs": [
    {
     "data": {
      "text/plain": [
       "array([['3:13:49', 'NaN', 'NaN'],\n",
       "       ['2:26:40', '2:23:40', 'NaN'],\n",
       "       ['NaN', '1:36:31', '1:33:31'],\n",
       "       ['NaN', 'NaN', '0:46:23']], dtype='<U65')"
      ]
     },
     "execution_count": 136,
     "metadata": {},
     "output_type": "execute_result"
    }
   ],
   "source": [
    "pit_time_matrix(103.458, 2.9, 4)"
   ]
  },
  {
   "cell_type": "code",
   "execution_count": 7,
   "id": "48725f56",
   "metadata": {},
   "outputs": [
    {
     "data": {
      "text/plain": [
       "(3.954167695621869, 3576.8483, 163.9352000000005)"
      ]
     },
     "execution_count": 7,
     "metadata": {},
     "output_type": "execute_result"
    }
   ],
   "source": [
    "estimate_stint_length(103.458, 2.9)  # Rake"
   ]
  },
  {
   "cell_type": "code",
   "execution_count": 8,
   "id": "07b8db91",
   "metadata": {},
   "outputs": [
    {
     "data": {
      "text/plain": [
       "(3.842992680032963, 3680.32395, 577.8377999999994)"
      ]
     },
     "execution_count": 8,
     "metadata": {},
     "output_type": "execute_result"
    }
   ],
   "source": [
    "estimate_stint_length(103.458, 2.85)  # Rake LICO"
   ]
  },
  {
   "cell_type": "code",
   "execution_count": 9,
   "id": "b536288e",
   "metadata": {},
   "outputs": [
    {
     "data": {
      "text/plain": [
       "(33.602673961086005, 98)"
      ]
     },
     "execution_count": 9,
     "metadata": {},
     "output_type": "execute_result"
    }
   ],
   "source": [
    "laps_and_fuel_per_stint(103.458, 2.9, 3)"
   ]
  },
  {
   "cell_type": "code",
   "execution_count": 10,
   "id": "c0e2ce5e",
   "metadata": {},
   "outputs": [
    {
     "data": {
      "text/plain": [
       "(4.039899340662368, 3501.15159, -139.69364000000058)"
      ]
     },
     "execution_count": 10,
     "metadata": {},
     "output_type": "execute_result"
    }
   ],
   "source": [
    "estimate_stint_length(104.3, 2.97)  # Marcus"
   ]
  },
  {
   "cell_type": "code",
   "execution_count": null,
   "id": "2c6f6913",
   "metadata": {},
   "outputs": [],
   "source": [
    "laps_and_fuel_per_stint(104.3, 2.97, 4)"
   ]
  },
  {
   "cell_type": "code",
   "execution_count": null,
   "id": "69bd7c59",
   "metadata": {},
   "outputs": [
    {
     "data": {
      "text/plain": [
       "(4.125147561096201, 3428.241, -429.0360000000003)"
      ]
     },
     "execution_count": 11,
     "metadata": {},
     "output_type": "execute_result"
    }
   ],
   "source": [
    "estimate_stint_length(102, 3.0)  # Dadeler"
   ]
  },
  {
   "cell_type": "code",
   "execution_count": null,
   "id": "b0c70889",
   "metadata": {},
   "outputs": [
    {
     "data": {
      "text/plain": [
       "82"
      ]
     },
     "execution_count": 23,
     "metadata": {},
     "output_type": "execute_result"
    }
   ],
   "source": [
    "laps_and_fuel_per_stint(102, 3.0, 4)  # L per refuel"
   ]
  },
  {
   "cell_type": "code",
   "execution_count": 4,
   "id": "f1a62fdd",
   "metadata": {},
   "outputs": [
    {
     "name": "stdout",
     "output_type": "stream",
     "text": [
      "Car 1 stints: 6.008526530400015\n",
      "Car 2 stints: 5.970472025708266\n",
      "Car 2 stints without dadeler: 5.90643506426124\n"
     ]
    }
   ],
   "source": [
    "car_1 = [(93, 2.55), (92, 2.7), (90.5, 2.65)]  # Rake, Dadeler\n",
    "car_2 = [(92, 2.7), (93.4, 2.61), (91.7, 2.6)]  # Dadeler, Marcus, Marv\n",
    "car_2_mod = car_2[1:]\n",
    "\n",
    "print(f\"Car 1 stints: {mean([estimate_stint_length(*x)[0] for x in car_1])}\")\n",
    "print(f\"Car 2 stints: {mean([estimate_stint_length(*x)[0] for x in car_2])}\")\n",
    "print(f\"Car 2 stints without dadeler: {mean([estimate_stint_length(*x)[0] for x in car_2_mod])}\")"
   ]
  }
 ],
 "metadata": {
  "kernelspec": {
   "display_name": "Python 3",
   "language": "python",
   "name": "python3"
  },
  "language_info": {
   "codemirror_mode": {
    "name": "ipython",
    "version": 3
   },
   "file_extension": ".py",
   "mimetype": "text/x-python",
   "name": "python",
   "nbconvert_exporter": "python",
   "pygments_lexer": "ipython3",
   "version": "3.13.9"
  }
 },
 "nbformat": 4,
 "nbformat_minor": 5
}
