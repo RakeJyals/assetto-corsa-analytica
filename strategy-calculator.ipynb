{
 "cells": [
  {
   "cell_type": "code",
   "execution_count": 5,
   "id": "4e90f5ae",
   "metadata": {},
   "outputs": [],
   "source": [
    "from math import floor\n",
    "from statistics import mean\n",
    "from scipy.optimize import brentq"
   ]
  },
  {
   "cell_type": "code",
   "execution_count": 2,
   "id": "3d4ef7d7",
   "metadata": {},
   "outputs": [],
   "source": [
    "race_length = 14400\n",
    "long_stops = 2"
   ]
  },
  {
   "cell_type": "code",
   "execution_count": null,
   "id": "750365c4",
   "metadata": {},
   "outputs": [],
   "source": [
    "# GT3\n",
    "base_pitstop_loss = 28\n",
    "# TODO: Separate losses for in, outlap? Would be messy because of finish line location varying between tracks, along with fact that some pit boxes are before finish line, some after\n",
    "fuel_tank_size = 100\n",
    "refuel_rate = 0.353  # sec / L\n",
    "tire_swap_time = 30"
   ]
  },
  {
   "cell_type": "code",
   "execution_count": 6,
   "id": "08661bad",
   "metadata": {},
   "outputs": [],
   "source": [
    "def estimate_stint_length(average_lap_time, average_fuel_consumption, laps_per_stint = None):\n",
    "    global race_length\n",
    "    global long_stops\n",
    "    global base_pitstop_loss\n",
    "\n",
    "    global fuel_tank_size\n",
    "    global refuel_rate\n",
    "    global tire_swap_time\n",
    "\n",
    "    long_stop_time = long_stops * 180\n",
    "    effective_race_length = race_length - long_stop_time\n",
    "\n",
    "    if laps_per_stint:\n",
    "        liters_to_refuel = laps_per_stint * average_fuel_consumption\n",
    "    else:\n",
    "        liters_to_refuel = fuel_tank_size - average_fuel_consumption  # To get a lower bound on max_stint_length, we lower bound pitstop length by\n",
    "        # assuming there is at least one lap of fuel left in the tank when coming in\n",
    "\n",
    "    pitstop_length = base_pitstop_loss + max(tire_swap_time, refuel_rate * liters_to_refuel)\n",
    "\n",
    "    if not laps_per_stint:\n",
    "        laps_per_stint = floor(fuel_tank_size / average_fuel_consumption)  # TODO Can this be moved up to avoid having the previous if laps_per_stint block?\n",
    "    \n",
    "    max_stint_length = average_lap_time * laps_per_stint + pitstop_length\n",
    "    # TODO: Parameter for max laps out? (tire strategy, may be better to save for new strat calculator)\n",
    "\n",
    "    stint_total = (effective_race_length + average_lap_time) / max_stint_length  # Adding average_lap_time to numerator accounts for 6 hours + 1 lap\n",
    "    # We want an upper bound of this\n",
    "    # pitstop_length is the sum of the time lost between the inlap and outlap. The first stint does not have an outlap but rather a formation lap (which is longer than an outlap),\n",
    "    # the final stint has an outlap but not an inlap. Therefore right now stint_total is overestimated by outlap_differential / max_stint_length\n",
    "\n",
    "    return stint_total, max_stint_length  # Separate function for max_stint_length?\n",
    "\n"
   ]
  },
  {
   "cell_type": "code",
   "execution_count": 20,
   "id": "9d975343",
   "metadata": {},
   "outputs": [],
   "source": [
    "def fuel_per_stint(average_lap_time, average_fuel_consumption, num_pitstops):\n",
    "    global fuel_tank_size\n",
    "    stint_total = num_pitstops + 1\n",
    "    obj = lambda laps_per_stint: estimate_stint_length(average_lap_time, average_fuel_consumption, laps_per_stint)[0] - stint_total\n",
    "\n",
    "    # Calculate optimal laps per stint\n",
    "    optimal_laps_per_stint = brentq(obj, 1, floor(fuel_tank_size / average_fuel_consumption))\n",
    "\n",
    "    # Return liters required to do optimal laps\n",
    "    return average_fuel_consumption * optimal_laps_per_stint"
   ]
  },
  {
   "cell_type": "code",
   "execution_count": 8,
   "id": "48725f56",
   "metadata": {},
   "outputs": [
    {
     "data": {
      "text/plain": [
       "(3.9508540068583353, 3579.8483)"
      ]
     },
     "execution_count": 8,
     "metadata": {},
     "output_type": "execute_result"
    }
   ],
   "source": [
    "estimate_stint_length(103.458, 2.9)"
   ]
  },
  {
   "cell_type": "code",
   "execution_count": 9,
   "id": "69bd7c59",
   "metadata": {},
   "outputs": [
    {
     "data": {
      "text/plain": [
       "(4.125147561096201, 3428.241)"
      ]
     },
     "execution_count": 9,
     "metadata": {},
     "output_type": "execute_result"
    }
   ],
   "source": [
    "estimate_stint_length(102, 3.0)"
   ]
  },
  {
   "cell_type": "code",
   "execution_count": null,
   "id": "b0c70889",
   "metadata": {},
   "outputs": [
    {
     "data": {
      "text/plain": [
       "81.48235294117649"
      ]
     },
     "execution_count": 19,
     "metadata": {},
     "output_type": "execute_result"
    }
   ],
   "source": [
    "fuel_per_stint(102, 3.0, 4)  # L per refuel"
   ]
  },
  {
   "cell_type": "code",
   "execution_count": 4,
   "id": "f1a62fdd",
   "metadata": {},
   "outputs": [
    {
     "name": "stdout",
     "output_type": "stream",
     "text": [
      "Car 1 stints: 6.008526530400015\n",
      "Car 2 stints: 5.970472025708266\n",
      "Car 2 stints without dadeler: 5.90643506426124\n"
     ]
    }
   ],
   "source": [
    "car_1 = [(93, 2.55), (92, 2.7), (90.5, 2.65)]  # Rake, Dadeler\n",
    "car_2 = [(92, 2.7), (93.4, 2.61), (91.7, 2.6)]  # Dadeler, Marcus, Marv\n",
    "car_2_mod = car_2[1:]\n",
    "\n",
    "print(f\"Car 1 stints: {mean([estimate_stint_length(*x)[0] for x in car_1])}\")\n",
    "print(f\"Car 2 stints: {mean([estimate_stint_length(*x)[0] for x in car_2])}\")\n",
    "print(f\"Car 2 stints without dadeler: {mean([estimate_stint_length(*x)[0] for x in car_2_mod])}\")"
   ]
  }
 ],
 "metadata": {
  "kernelspec": {
   "display_name": "Python 3",
   "language": "python",
   "name": "python3"
  },
  "language_info": {
   "codemirror_mode": {
    "name": "ipython",
    "version": 3
   },
   "file_extension": ".py",
   "mimetype": "text/x-python",
   "name": "python",
   "nbconvert_exporter": "python",
   "pygments_lexer": "ipython3",
   "version": "3.13.9"
  }
 },
 "nbformat": 4,
 "nbformat_minor": 5
}
