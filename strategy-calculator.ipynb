{
 "cells": [
  {
   "cell_type": "code",
   "execution_count": 2,
   "id": "4e90f5ae",
   "metadata": {},
   "outputs": [],
   "source": [
    "from math import floor\n",
    "from statistics import mean"
   ]
  },
  {
   "cell_type": "code",
   "execution_count": 3,
   "id": "08661bad",
   "metadata": {},
   "outputs": [],
   "source": [
    "def estimate_stint_length(average_lap_time, average_fuel_consumption):\n",
    "    race_length = 21600 # s\n",
    "    long_stops = 3\n",
    "    base_pitstop_loss = 20  # Remember that last stint won't have a pitstop!\n",
    "\n",
    "    fuel_tank_size = 100 # L\n",
    "    refuel_rate = 0.353  # sec / L\n",
    "    tire_swap_time = 30\n",
    "\n",
    "    long_stop_time = long_stops * 180\n",
    "    effective_race_length = race_length - long_stop_time\n",
    "    pitstop_length = base_pitstop_loss + max(tire_swap_time, refuel_rate * fuel_tank_size)\n",
    "\n",
    "    stint_length = average_lap_time * floor(fuel_tank_size / average_fuel_consumption) + pitstop_length  # TODO: Parameter for laps out (tire strategy)\n",
    "\n",
    "    stint_total = (effective_race_length + average_lap_time - pitstop_length) / stint_length  # Adding average_lap_time to numerator accounts for 6 hours + 1 lap\n",
    "    # Subtracting pitstop length accounts for the fact that the last stint will not have a pitstop\n",
    "\n",
    "    return stint_total, stint_length\n",
    "\n"
   ]
  },
  {
   "cell_type": "code",
   "execution_count": 4,
   "id": "f1a62fdd",
   "metadata": {},
   "outputs": [
    {
     "name": "stdout",
     "output_type": "stream",
     "text": [
      "Car 1 stints: 6.008526530400015\n",
      "Car 2 stints: 5.970472025708266\n",
      "Car 2 stints without dadeler: 5.90643506426124\n"
     ]
    }
   ],
   "source": [
    "car_1 = [(93, 2.55), (92, 2.7), (90.5, 2.65)]  # Rake, Dadeler\n",
    "car_2 = [(92, 2.7), (93.4, 2.61), (91.7, 2.6)]  # Dadeler, Marcus, Marv\n",
    "car_2_mod = car_2[1:]\n",
    "\n",
    "print(f\"Car 1 stints: {mean([estimate_stint_length(*x)[0] for x in car_1])}\")\n",
    "print(f\"Car 2 stints: {mean([estimate_stint_length(*x)[0] for x in car_2])}\")\n",
    "print(f\"Car 2 stints without dadeler: {mean([estimate_stint_length(*x)[0] for x in car_2_mod])}\")"
   ]
  }
 ],
 "metadata": {
  "kernelspec": {
   "display_name": "Python 3",
   "language": "python",
   "name": "python3"
  },
  "language_info": {
   "codemirror_mode": {
    "name": "ipython",
    "version": 3
   },
   "file_extension": ".py",
   "mimetype": "text/x-python",
   "name": "python",
   "nbconvert_exporter": "python",
   "pygments_lexer": "ipython3",
   "version": "3.13.7"
  }
 },
 "nbformat": 4,
 "nbformat_minor": 5
}
