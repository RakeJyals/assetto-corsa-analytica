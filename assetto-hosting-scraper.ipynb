{
 "cells": [
  {
   "cell_type": "markdown",
   "id": "f722b618",
   "metadata": {},
   "source": [
    "# Notes\n",
    "So far in the practice session, the gap value does not seem to be reliable (this is because gap follows AC leaderboard, so gap will be of best time in practice/quali, will update on new lap for race). I will need to check how it behaves during the race. <br>\n",
    "Because gap follows AC leaderboard and not realtime, it will not be the best source of data, but could work as a placeholder while working on AC realtime integration"
   ]
  },
  {
   "cell_type": "code",
   "execution_count": 1,
   "id": "1bd7cb97",
   "metadata": {},
   "outputs": [],
   "source": [
    "from selenium import webdriver\n",
    "from selenium.webdriver.common.by import By\n",
    "from selenium.webdriver.firefox.options import Options"
   ]
  },
  {
   "cell_type": "code",
   "execution_count": null,
   "id": "3f64411a",
   "metadata": {},
   "outputs": [],
   "source": [
    "driver.close()"
   ]
  },
  {
   "cell_type": "code",
   "execution_count": 4,
   "id": "2aa49ac9",
   "metadata": {},
   "outputs": [
    {
     "name": "stderr",
     "output_type": "stream",
     "text": [
      "Problem reading geckodriver versions: error sending request for url (https://raw.githubusercontent.com/SeleniumHQ/selenium/trunk/common/geckodriver/geckodriver-support.json). Using latest geckodriver version\n",
      "There was an error managing geckodriver (error sending request for url (https://github.com/mozilla/geckodriver/releases/latest)); using driver found in the cache\n"
     ]
    },
    {
     "ename": "WebDriverException",
     "evalue": "Message: Reached error page: about:neterror?e=dnsNotFound&u=https%3A//usa4.assettohosting.com%3A50012/live-timing&c=UTF-8&d=We%20can%E2%80%99t%20connect%20to%20the%20server%20at%20usa4.assettohosting.com.\nStacktrace:\nRemoteError@chrome://remote/content/shared/RemoteError.sys.mjs:8:8\nWebDriverError@chrome://remote/content/shared/webdriver/Errors.sys.mjs:199:5\nUnknownError@chrome://remote/content/shared/webdriver/Errors.sys.mjs:910:5\ncheckReadyState@chrome://remote/content/marionette/navigate.sys.mjs:59:24\nonNavigation@chrome://remote/content/marionette/navigate.sys.mjs:348:39\nemit@resource://gre/modules/EventEmitter.sys.mjs:156:19\nreceiveMessage@chrome://remote/content/marionette/actors/MarionetteEventsParent.sys.mjs:33:25\n",
     "output_type": "error",
     "traceback": [
      "\u001b[1;31m---------------------------------------------------------------------------\u001b[0m",
      "\u001b[1;31mWebDriverException\u001b[0m                        Traceback (most recent call last)",
      "Cell \u001b[1;32mIn[4], line 12\u001b[0m\n\u001b[0;32m      9\u001b[0m driver \u001b[38;5;241m=\u001b[39m webdriver\u001b[38;5;241m.\u001b[39mFirefox(options\u001b[38;5;241m=\u001b[39moptions)\n\u001b[0;32m     11\u001b[0m \u001b[38;5;66;03m# get google.co.in \u001b[39;00m\n\u001b[1;32m---> 12\u001b[0m \u001b[43mdriver\u001b[49m\u001b[38;5;241;43m.\u001b[39;49m\u001b[43mget\u001b[49m\u001b[43m(\u001b[49m\u001b[43mURL\u001b[49m\u001b[43m)\u001b[49m\n",
      "File \u001b[1;32m~\\AppData\\Local\\Packages\\PythonSoftwareFoundation.Python.3.10_qbz5n2kfra8p0\\LocalCache\\local-packages\\Python310\\site-packages\\selenium\\webdriver\\remote\\webdriver.py:483\u001b[0m, in \u001b[0;36mWebDriver.get\u001b[1;34m(self, url)\u001b[0m\n\u001b[0;32m    465\u001b[0m \u001b[38;5;28;01mdef\u001b[39;00m\u001b[38;5;250m \u001b[39m\u001b[38;5;21mget\u001b[39m(\u001b[38;5;28mself\u001b[39m, url: \u001b[38;5;28mstr\u001b[39m) \u001b[38;5;241m-\u001b[39m\u001b[38;5;241m>\u001b[39m \u001b[38;5;28;01mNone\u001b[39;00m:\n\u001b[0;32m    466\u001b[0m \u001b[38;5;250m    \u001b[39m\u001b[38;5;124;03m\"\"\"Navigate the browser to the specified URL in the current window or\u001b[39;00m\n\u001b[0;32m    467\u001b[0m \u001b[38;5;124;03m    tab.\u001b[39;00m\n\u001b[0;32m    468\u001b[0m \n\u001b[1;32m   (...)\u001b[0m\n\u001b[0;32m    481\u001b[0m \u001b[38;5;124;03m    >>> driver.get(\"https://example.com\")\u001b[39;00m\n\u001b[0;32m    482\u001b[0m \u001b[38;5;124;03m    \"\"\"\u001b[39;00m\n\u001b[1;32m--> 483\u001b[0m     \u001b[38;5;28;43mself\u001b[39;49m\u001b[38;5;241;43m.\u001b[39;49m\u001b[43mexecute\u001b[49m\u001b[43m(\u001b[49m\u001b[43mCommand\u001b[49m\u001b[38;5;241;43m.\u001b[39;49m\u001b[43mGET\u001b[49m\u001b[43m,\u001b[49m\u001b[43m \u001b[49m\u001b[43m{\u001b[49m\u001b[38;5;124;43m\"\u001b[39;49m\u001b[38;5;124;43murl\u001b[39;49m\u001b[38;5;124;43m\"\u001b[39;49m\u001b[43m:\u001b[49m\u001b[43m \u001b[49m\u001b[43murl\u001b[49m\u001b[43m}\u001b[49m\u001b[43m)\u001b[49m\n",
      "File \u001b[1;32m~\\AppData\\Local\\Packages\\PythonSoftwareFoundation.Python.3.10_qbz5n2kfra8p0\\LocalCache\\local-packages\\Python310\\site-packages\\selenium\\webdriver\\remote\\webdriver.py:458\u001b[0m, in \u001b[0;36mWebDriver.execute\u001b[1;34m(self, driver_command, params)\u001b[0m\n\u001b[0;32m    455\u001b[0m response \u001b[38;5;241m=\u001b[39m cast(RemoteConnection, \u001b[38;5;28mself\u001b[39m\u001b[38;5;241m.\u001b[39mcommand_executor)\u001b[38;5;241m.\u001b[39mexecute(driver_command, params)\n\u001b[0;32m    457\u001b[0m \u001b[38;5;28;01mif\u001b[39;00m response:\n\u001b[1;32m--> 458\u001b[0m     \u001b[38;5;28;43mself\u001b[39;49m\u001b[38;5;241;43m.\u001b[39;49m\u001b[43merror_handler\u001b[49m\u001b[38;5;241;43m.\u001b[39;49m\u001b[43mcheck_response\u001b[49m\u001b[43m(\u001b[49m\u001b[43mresponse\u001b[49m\u001b[43m)\u001b[49m\n\u001b[0;32m    459\u001b[0m     response[\u001b[38;5;124m\"\u001b[39m\u001b[38;5;124mvalue\u001b[39m\u001b[38;5;124m\"\u001b[39m] \u001b[38;5;241m=\u001b[39m \u001b[38;5;28mself\u001b[39m\u001b[38;5;241m.\u001b[39m_unwrap_value(response\u001b[38;5;241m.\u001b[39mget(\u001b[38;5;124m\"\u001b[39m\u001b[38;5;124mvalue\u001b[39m\u001b[38;5;124m\"\u001b[39m, \u001b[38;5;28;01mNone\u001b[39;00m))\n\u001b[0;32m    460\u001b[0m     \u001b[38;5;28;01mreturn\u001b[39;00m response\n",
      "File \u001b[1;32m~\\AppData\\Local\\Packages\\PythonSoftwareFoundation.Python.3.10_qbz5n2kfra8p0\\LocalCache\\local-packages\\Python310\\site-packages\\selenium\\webdriver\\remote\\errorhandler.py:232\u001b[0m, in \u001b[0;36mErrorHandler.check_response\u001b[1;34m(self, response)\u001b[0m\n\u001b[0;32m    230\u001b[0m         alert_text \u001b[38;5;241m=\u001b[39m value[\u001b[38;5;124m\"\u001b[39m\u001b[38;5;124malert\u001b[39m\u001b[38;5;124m\"\u001b[39m]\u001b[38;5;241m.\u001b[39mget(\u001b[38;5;124m\"\u001b[39m\u001b[38;5;124mtext\u001b[39m\u001b[38;5;124m\"\u001b[39m)\n\u001b[0;32m    231\u001b[0m     \u001b[38;5;28;01mraise\u001b[39;00m exception_class(message, screen, stacktrace, alert_text)  \u001b[38;5;66;03m# type: ignore[call-arg]  # mypy is not smart enough here\u001b[39;00m\n\u001b[1;32m--> 232\u001b[0m \u001b[38;5;28;01mraise\u001b[39;00m exception_class(message, screen, stacktrace)\n",
      "\u001b[1;31mWebDriverException\u001b[0m: Message: Reached error page: about:neterror?e=dnsNotFound&u=https%3A//usa4.assettohosting.com%3A50012/live-timing&c=UTF-8&d=We%20can%E2%80%99t%20connect%20to%20the%20server%20at%20usa4.assettohosting.com.\nStacktrace:\nRemoteError@chrome://remote/content/shared/RemoteError.sys.mjs:8:8\nWebDriverError@chrome://remote/content/shared/webdriver/Errors.sys.mjs:199:5\nUnknownError@chrome://remote/content/shared/webdriver/Errors.sys.mjs:910:5\ncheckReadyState@chrome://remote/content/marionette/navigate.sys.mjs:59:24\nonNavigation@chrome://remote/content/marionette/navigate.sys.mjs:348:39\nemit@resource://gre/modules/EventEmitter.sys.mjs:156:19\nreceiveMessage@chrome://remote/content/marionette/actors/MarionetteEventsParent.sys.mjs:33:25\n"
     ]
    }
   ],
   "source": [
    "# Only have to run this cell once, javascript keeps running, so data updates upon running find_element(s) again\n",
    "URL = \"https://usa4.assettohosting.com:50012/live-timing\"\n",
    "#URL = \"file:///C:/Users/Jake/Downloads/Live%20Timing%20_%20Astro%20Cup%20Endurance%20Series.htm\"\n",
    "TEAM_NAME = \"Placeholder\"\n",
    "\n",
    "# create webdriver object \n",
    "options = Options()\n",
    "options.add_argument(\"--headless\")\n",
    "driver = webdriver.Firefox(options=options)\n",
    "\n",
    "# get google.co.in \n",
    "driver.get(URL)"
   ]
  },
  {
   "cell_type": "code",
   "execution_count": 11,
   "id": "1baabe6c",
   "metadata": {},
   "outputs": [],
   "source": [
    "table = driver.find_element(By.ID, \"live-table\")\n",
    "rows = table.find_elements(By.TAG_NAME, \"tr\")"
   ]
  },
  {
   "cell_type": "code",
   "execution_count": null,
   "id": "4366b2e8",
   "metadata": {},
   "outputs": [
    {
     "name": "stdout",
     "output_type": "stream",
     "text": [
      "[]\n",
      "['1', 'Marvin Baesler\\n777', '', 'ACF GT3 - Aston Martin Vantage GT3 EVO 2024', 'S8M', '', '', '01:25S1: 39.831', '0.58s', '', '03:06.274', '02:16.862 (S8M)', '', '00:00.000', '22 (0/pit)', '20', '', '', '99']\n",
      "['2', 'Rama96\\n777', '', 'ACF GT3 - Aston Martin Vantage GT3 EVO 2024', 'S8M', '', '', '00:08S1: 02:18.295S2: 01:10.241S3: 36.287', '0.28s', '', '04:04.823', '02:17.551 (S8M)', '', '00:00.689', '10 (0/pit)', '24', '', '', '158']\n",
      "['3', 'Cagermon\\n88', '', 'ACF GT3 - Ford Mustang GT3 2024', '', '', '', 'PIT', '0.37s', '', '02:22.291', '02:18.632 (S8M)', '', '00:01.081', '6 (0/pit)', '25', '', '', '102']\n",
      "['4', 'NotFlowSA\\n107', '', 'ACF GT3 - Bentley Continental GT3 2018', '', '', '', 'PIT', '0.00s', '', '02:40.017', '', '', '', '5 (0/pit)', '7', '', '', '294']\n",
      "['5', 'Safety Car\\n33', '', 'ACF GT3 - Audi R8 LMS EVO II 2021', 'S8M', '', '', '03:53PIT', '0.06s', '', '', '', '', '', '0', '16', '', '', '180']\n",
      "['6', 'APEX | Arruda\\n50', '', 'ACF GT3 - Ferrari 296 GT3 2023', 'S8M', '', '', '00:53PIT', '0.00s', '', '', '', '', '', '0', '0', '', '', '128']\n"
     ]
    }
   ],
   "source": [
    "for row in rows:\n",
    "    cells = row.find_elements(By.TAG_NAME, \"td\")  # td is table data, th is table header\n",
    "    data = [cell.text for cell in cells]\n",
    "    print(data)\n",
    "\n",
    "# Todo: convert into pandas dataframe"
   ]
  },
  {
   "cell_type": "code",
   "execution_count": null,
   "id": "9edc66d2",
   "metadata": {},
   "outputs": [
    {
     "name": "stdout",
     "output_type": "stream",
     "text": [
      "['#', 'Driver', '', 'Car', 'Tyres', '', '', 'Current Lap', 'Delta (PB)', '', 'Last Lap', 'Best Lap', '', 'Gap', 'Laps', 'Pitstops', '', '', 'Ping']\n"
     ]
    }
   ],
   "source": [
    "print([i.text for i in rows[0].find_elements(By.TAG_NAME, \"th\")])  # Header row, use to name dataframe columns\n"
   ]
  },
  {
   "cell_type": "code",
   "execution_count": null,
   "id": "1f790273",
   "metadata": {},
   "outputs": [],
   "source": [
    "# Todo: calculating actual gaps between cars\n",
    "\n",
    "\n",
    "# Calculate average recent lap time (over last 5 laps that are not outliers)\n"
   ]
  }
 ],
 "metadata": {
  "kernelspec": {
   "display_name": "Python 3",
   "language": "python",
   "name": "python3"
  },
  "language_info": {
   "codemirror_mode": {
    "name": "ipython",
    "version": 3
   },
   "file_extension": ".py",
   "mimetype": "text/x-python",
   "name": "python",
   "nbconvert_exporter": "python",
   "pygments_lexer": "ipython3",
   "version": "3.10.11"
  }
 },
 "nbformat": 4,
 "nbformat_minor": 5
}
