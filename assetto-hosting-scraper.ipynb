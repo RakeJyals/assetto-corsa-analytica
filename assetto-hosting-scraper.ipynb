{
 "cells": [
  {
   "cell_type": "code",
   "execution_count": 13,
   "id": "1bd7cb97",
   "metadata": {},
   "outputs": [],
   "source": [
    "from selenium import webdriver\n",
    "from selenium.webdriver.common.by import By\n",
    "from selenium.webdriver.firefox.options import Options"
   ]
  },
  {
   "cell_type": "code",
   "execution_count": null,
   "id": "3f64411a",
   "metadata": {},
   "outputs": [],
   "source": [
    "driver.close()"
   ]
  },
  {
   "cell_type": "code",
   "execution_count": 15,
   "id": "2aa49ac9",
   "metadata": {},
   "outputs": [],
   "source": [
    "#URL = \"https://usa4.assettohosting.com:50012/live-timing\"\n",
    "URL = \"file:///C:/Users/Jake/Downloads/Live%20Timing%20_%20Astro%20Cup%20Endurance%20Series.htm\"\n",
    "TEAM_NAME = \"Placeholder\"\n",
    "\n",
    "# create webdriver object \n",
    "options = Options()\n",
    "options.add_argument(\"--headless\")\n",
    "driver = webdriver.Firefox(options=options)\n",
    "\n",
    "# get google.co.in \n",
    "driver.get(URL)"
   ]
  },
  {
   "cell_type": "code",
   "execution_count": 16,
   "id": "1baabe6c",
   "metadata": {},
   "outputs": [],
   "source": [
    "table = driver.find_element(By.ID, \"live-table\")\n",
    "rows = table.find_elements(By.TAG_NAME, \"tr\")"
   ]
  },
  {
   "cell_type": "code",
   "execution_count": null,
   "id": "4366b2e8",
   "metadata": {},
   "outputs": [
    {
     "name": "stdout",
     "output_type": "stream",
     "text": [
      "[]\n",
      "['1', 'Pereira51', '', 'Ferrari 499P', 'M', '', '', '02:38PIT', '0.35s', '', '02:07.501', '02:03.893 (S)', '', '00:00.000', '31 (0/pit)', '112', '', '', 'image/svg+xml 131']\n"
     ]
    }
   ],
   "source": [
    "for row in rows:\n",
    "    cells = row.find_elements(By.TAG_NAME, \"td\")  # td is table data, th is table header\n",
    "    data = [cell.text for cell in cells]\n",
    "    print(data)"
   ]
  },
  {
   "cell_type": "code",
   "execution_count": 21,
   "id": "9edc66d2",
   "metadata": {},
   "outputs": [
    {
     "name": "stdout",
     "output_type": "stream",
     "text": [
      "['#', 'Driver', '', 'Car', 'Tyres', '', '', 'Current Lap', 'Delta (PB)', '', 'Last Lap', 'Best Lap', '', 'Gap', 'Laps', 'Pitstops', '', '', 'Ping']\n"
     ]
    }
   ],
   "source": [
    "print([i.text for i in rows[0].find_elements(By.TAG_NAME, \"th\")])  # Header row\n"
   ]
  }
 ],
 "metadata": {
  "kernelspec": {
   "display_name": "Python 3",
   "language": "python",
   "name": "python3"
  },
  "language_info": {
   "codemirror_mode": {
    "name": "ipython",
    "version": 3
   },
   "file_extension": ".py",
   "mimetype": "text/x-python",
   "name": "python",
   "nbconvert_exporter": "python",
   "pygments_lexer": "ipython3",
   "version": "3.10.11"
  }
 },
 "nbformat": 4,
 "nbformat_minor": 5
}
