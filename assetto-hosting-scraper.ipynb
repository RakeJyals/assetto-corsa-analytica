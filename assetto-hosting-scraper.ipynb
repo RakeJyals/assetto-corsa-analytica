{
 "cells": [
  {
   "cell_type": "code",
   "execution_count": 9,
   "id": "1bd7cb97",
   "metadata": {},
   "outputs": [],
   "source": [
    "from selenium import webdriver\n",
    "from selenium.webdriver.common.by import By"
   ]
  },
  {
   "cell_type": "code",
   "execution_count": 10,
   "id": "2aa49ac9",
   "metadata": {},
   "outputs": [],
   "source": [
    "#URL = \"https://usa4.assettohosting.com:50012/live-timing\"\n",
    "URL = \"file:///C:/Users/jakep/Downloads/Live%20Timing%20_%20Astro%20Cup%20Endurance%20Series.htm\"\n",
    "TEAM_NAME = \"Placeholder\"\n",
    "\n",
    "# create webdriver object \n",
    "driver = webdriver.Firefox()\n",
    "\n",
    "# get google.co.in \n",
    "driver.get(URL)"
   ]
  },
  {
   "cell_type": "code",
   "execution_count": null,
   "id": "1baabe6c",
   "metadata": {},
   "outputs": [],
   "source": [
    "driver.find_elements(By.CLASS_NAME, \"gap\")[0].text"
   ]
  }
 ],
 "metadata": {
  "kernelspec": {
   "display_name": "Python 3",
   "language": "python",
   "name": "python3"
  },
  "language_info": {
   "codemirror_mode": {
    "name": "ipython",
    "version": 3
   },
   "file_extension": ".py",
   "mimetype": "text/x-python",
   "name": "python",
   "nbconvert_exporter": "python",
   "pygments_lexer": "ipython3",
   "version": "3.13.7"
  }
 },
 "nbformat": 4,
 "nbformat_minor": 5
}
