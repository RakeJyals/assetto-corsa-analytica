{
 "cells": [
  {
   "cell_type": "markdown",
   "id": "f722b618",
   "metadata": {},
   "source": [
    "# Notes\n",
    "So far in the practice session, the gap value does not seem to be reliable (this is because gap follows AC leaderboard, so gap will be of best time in practice/quali, will update on new lap for race). I will need to check how it behaves during the race. <br>\n",
    "Because gap follows AC leaderboard and not realtime, it will not be the best source of data, but could work as a placeholder while working on AC realtime integration"
   ]
  },
  {
   "cell_type": "code",
   "execution_count": 4,
   "id": "1bd7cb97",
   "metadata": {},
   "outputs": [],
   "source": [
    "from selenium import webdriver\n",
    "from selenium.webdriver.common.by import By\n",
    "from selenium.webdriver.firefox.options import Options"
   ]
  },
  {
   "cell_type": "code",
   "execution_count": null,
   "id": "3f64411a",
   "metadata": {},
   "outputs": [],
   "source": [
    "driver.close()"
   ]
  },
  {
   "cell_type": "code",
   "execution_count": null,
   "id": "2aa49ac9",
   "metadata": {},
   "outputs": [],
   "source": [
    "# Only have to run this cell once, javascript keeps running, so data updates upon running find_element(s) again\n",
    "URL = \"https://usa4.assettohosting.com:50012/live-timing\"\n",
    "#URL = \"file:///C:/Users/Jake/Downloads/Live%20Timing%20_%20Astro%20Cup%20Endurance%20Series.htm\"\n",
    "TEAM_NAME = \"Placeholder\"\n",
    "\n",
    "# create webdriver object \n",
    "options = Options()\n",
    "options.add_argument(\"--headless\")\n",
    "driver = webdriver.Firefox(options=options)\n",
    "\n",
    "# get google.co.in \n",
    "driver.get(URL)"
   ]
  },
  {
   "cell_type": "code",
   "execution_count": 11,
   "id": "1baabe6c",
   "metadata": {},
   "outputs": [],
   "source": [
    "table = driver.find_element(By.ID, \"live-table\")\n",
    "rows = table.find_elements(By.TAG_NAME, \"tr\")"
   ]
  },
  {
   "cell_type": "code",
   "execution_count": 12,
   "id": "4366b2e8",
   "metadata": {},
   "outputs": [
    {
     "name": "stdout",
     "output_type": "stream",
     "text": [
      "[]\n",
      "['1', 'Marvin Baesler\\n777', '', 'ACF GT3 - Aston Martin Vantage GT3 EVO 2024', 'S8M', '', '', '01:25S1: 39.831', '0.58s', '', '03:06.274', '02:16.862 (S8M)', '', '00:00.000', '22 (0/pit)', '20', '', '', '99']\n",
      "['2', 'Rama96\\n777', '', 'ACF GT3 - Aston Martin Vantage GT3 EVO 2024', 'S8M', '', '', '00:08S1: 02:18.295S2: 01:10.241S3: 36.287', '0.28s', '', '04:04.823', '02:17.551 (S8M)', '', '00:00.689', '10 (0/pit)', '24', '', '', '158']\n",
      "['3', 'Cagermon\\n88', '', 'ACF GT3 - Ford Mustang GT3 2024', '', '', '', 'PIT', '0.37s', '', '02:22.291', '02:18.632 (S8M)', '', '00:01.081', '6 (0/pit)', '25', '', '', '102']\n",
      "['4', 'NotFlowSA\\n107', '', 'ACF GT3 - Bentley Continental GT3 2018', '', '', '', 'PIT', '0.00s', '', '02:40.017', '', '', '', '5 (0/pit)', '7', '', '', '294']\n",
      "['5', 'Safety Car\\n33', '', 'ACF GT3 - Audi R8 LMS EVO II 2021', 'S8M', '', '', '03:53PIT', '0.06s', '', '', '', '', '', '0', '16', '', '', '180']\n",
      "['6', 'APEX | Arruda\\n50', '', 'ACF GT3 - Ferrari 296 GT3 2023', 'S8M', '', '', '00:53PIT', '0.00s', '', '', '', '', '', '0', '0', '', '', '128']\n"
     ]
    }
   ],
   "source": [
    "for row in rows:\n",
    "    cells = row.find_elements(By.TAG_NAME, \"td\")  # td is table data, th is table header\n",
    "    data = [cell.text for cell in cells]\n",
    "    print(data)"
   ]
  },
  {
   "cell_type": "code",
   "execution_count": 10,
   "id": "9edc66d2",
   "metadata": {},
   "outputs": [
    {
     "name": "stdout",
     "output_type": "stream",
     "text": [
      "['#', 'Driver', '', 'Car', 'Tyres', '', '', 'Current Lap', 'Delta (PB)', '', 'Last Lap', 'Best Lap', '', 'Gap', 'Laps', 'Pitstops', '', '', 'Ping']\n"
     ]
    }
   ],
   "source": [
    "print([i.text for i in rows[0].find_elements(By.TAG_NAME, \"th\")])  # Header row\n"
   ]
  }
 ],
 "metadata": {
  "kernelspec": {
   "display_name": "Python 3",
   "language": "python",
   "name": "python3"
  },
  "language_info": {
   "codemirror_mode": {
    "name": "ipython",
    "version": 3
   },
   "file_extension": ".py",
   "mimetype": "text/x-python",
   "name": "python",
   "nbconvert_exporter": "python",
   "pygments_lexer": "ipython3",
   "version": "3.10.11"
  }
 },
 "nbformat": 4,
 "nbformat_minor": 5
}
